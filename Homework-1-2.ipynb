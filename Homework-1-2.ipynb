{
 "cells": [
  {
   "cell_type": "markdown",
   "metadata": {},
   "source": [
    "# 10720PHYS401200 Homework-1"
   ]
  },
  {
   "cell_type": "markdown",
   "metadata": {},
   "source": [
    "## Problem 2: Markov-chain sampling of π\n",
    "\n",
    "Implement and run Markov-chain sampling of π, starting $(x,y)=(1,1)$. Convince yourself, choosing a throwing range $\\delta=0.3$, that $Z = N_{hits}/N$ converges towards $\\pi/4$. \n",
    "\n",
    "For a fixed larger $N$, run it **twenty** times and\n",
    "* Plot $\\frac{1}{20} \\sum_{r=1}^{20} (Z_r - \\frac{\\pi}{4})^2$ as a function of $\\delta$ for $\\delta\\in [0, 3]$.\n",
    "* Plot the rejection rate of this algorithm as a function of $\\delta$. \n",
    "\n",
    "Which value of the rejection rate yields the highest precision?"
   ]
  },
  {
   "cell_type": "code",
   "execution_count": 1,
   "metadata": {},
   "outputs": [],
   "source": [
    "# import necessary libraries\n",
    "import matplotlib.pyplot as plt\n",
    "import numpy as np"
   ]
  },
  {
   "cell_type": "code",
   "execution_count": null,
   "metadata": {},
   "outputs": [],
   "source": []
  }
 ],
 "metadata": {
  "kernelspec": {
   "display_name": "Python 3",
   "language": "python",
   "name": "python3"
  },
  "language_info": {
   "codemirror_mode": {
    "name": "ipython",
    "version": 3
   },
   "file_extension": ".py",
   "mimetype": "text/x-python",
   "name": "python",
   "nbconvert_exporter": "python",
   "pygments_lexer": "ipython3",
   "version": "3.6.8"
  }
 },
 "nbformat": 4,
 "nbformat_minor": 2
}
