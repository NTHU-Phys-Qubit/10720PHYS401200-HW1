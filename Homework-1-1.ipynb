{
 "cells": [
  {
   "cell_type": "markdown",
   "metadata": {},
   "source": [
    "# 10720PHYS401200 Homework-1"
   ]
  },
  {
   "cell_type": "markdown",
   "metadata": {},
   "source": [
    "## Problem 1: Direct sampling of π\n",
    "\n",
    "Implement direct samplig of π. Run it **twenty** times each for $N=10^0, 10^1, 10^2, \\dots, 10^8$. Define $Z_r(N)=N_{hit}/N$, where $r=1,\\dots, 20$. Convince yourself that $Z_r(N)$ converges towards $\\pi/4$ as $N\\rightarrow \\infty$. Find\n",
    "$$\n",
    "  \\frac{1}{20} \\sum_{r=1}^{20} \\left(Z_r(N)-\\frac{\\pi}{4}\\right)^2\n",
    "$$\n",
    "and\n",
    "$$\n",
    "  \\frac{1}{20} \\sum_{r=1}^{20} \\left(Z_r(N)-\\bar{Z}(N)\\right)^2\n",
    "$$\n",
    "from the runs and plot them as a function of $N$. Estimate how do they scale with $N$?\n",
    "\n",
    "**Note:** For a set of data from a simulation, $x_i$, $(i=1,\\dots,N)$, i.e., a *sample* of data. The sample mean $\\bar{x}$ and the sample standard deviation $s$ are defined by\n",
    "$$\n",
    "  \\bar{x} \\equiv \\frac{1}{N} \\sum_{i=1}^N x_i, \\;\n",
    "  s^2 \\equiv \\frac{1}{N} \\sum_{i=1}^N (x_i - \\bar{x})^2.\n",
    "$$"
   ]
  },
  {
   "cell_type": "code",
   "execution_count": 1,
   "metadata": {},
   "outputs": [],
   "source": [
    "# import necessary libraries\n",
    "import matplotlib.pyplot as plt\n",
    "import numpy as np"
   ]
  },
  {
   "cell_type": "code",
   "execution_count": null,
   "metadata": {},
   "outputs": [],
   "source": []
  }
 ],
 "metadata": {
  "kernelspec": {
   "display_name": "Python 3",
   "language": "python",
   "name": "python3"
  },
  "language_info": {
   "codemirror_mode": {
    "name": "ipython",
    "version": 3
   },
   "file_extension": ".py",
   "mimetype": "text/x-python",
   "name": "python",
   "nbconvert_exporter": "python",
   "pygments_lexer": "ipython3",
   "version": "3.6.8"
  }
 },
 "nbformat": 4,
 "nbformat_minor": 2
}
